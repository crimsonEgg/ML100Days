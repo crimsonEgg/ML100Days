{
 "cells": [
  {
   "cell_type": "code",
   "execution_count": 2,
   "metadata": {},
   "outputs": [],
   "source": [
    "import numpy as np\n"
   ]
  },
  {
   "cell_type": "code",
   "execution_count": 3,
   "metadata": {},
   "outputs": [],
   "source": [
    "np.random.seed(9)\n",
    "A = np.arange(6).reshape(2, 3)\n",
    "B = np.arange(12).reshape(3, 4)"
   ]
  },
  {
   "cell_type": "code",
   "execution_count": 4,
   "metadata": {},
   "outputs": [
    {
     "data": {
      "text/plain": [
       "array([[0, 1, 2],\n",
       "       [3, 4, 5]])"
      ]
     },
     "execution_count": 4,
     "metadata": {},
     "output_type": "execute_result"
    }
   ],
   "source": [
    "A\n"
   ]
  },
  {
   "cell_type": "code",
   "execution_count": 5,
   "metadata": {},
   "outputs": [
    {
     "data": {
      "text/plain": [
       "array([[ 0,  1,  2,  3],\n",
       "       [ 4,  5,  6,  7],\n",
       "       [ 8,  9, 10, 11]])"
      ]
     },
     "execution_count": 5,
     "metadata": {},
     "output_type": "execute_result"
    }
   ],
   "source": [
    "B"
   ]
  },
  {
   "cell_type": "code",
   "execution_count": 6,
   "metadata": {},
   "outputs": [
    {
     "data": {
      "text/plain": [
       "array([[20, 23, 26, 29],\n",
       "       [56, 68, 80, 92]])"
      ]
     },
     "execution_count": 6,
     "metadata": {},
     "output_type": "execute_result"
    }
   ],
   "source": [
    "np.dot(A, B)"
   ]
  },
  {
   "cell_type": "code",
   "execution_count": 7,
   "metadata": {},
   "outputs": [],
   "source": [
    "np.random.seed(9)\n",
    "a = np.random.randint(10, size=(5))\n",
    "b = np.random.randint(10, size=(5))"
   ]
  },
  {
   "cell_type": "code",
   "execution_count": 8,
   "metadata": {},
   "outputs": [
    {
     "data": {
      "text/plain": [
       "array([5, 6, 8, 6, 1])"
      ]
     },
     "execution_count": 8,
     "metadata": {},
     "output_type": "execute_result"
    }
   ],
   "source": [
    "a"
   ]
  },
  {
   "cell_type": "code",
   "execution_count": 9,
   "metadata": {},
   "outputs": [
    {
     "data": {
      "text/plain": [
       "array([6, 4, 8, 1, 8])"
      ]
     },
     "execution_count": 9,
     "metadata": {},
     "output_type": "execute_result"
    }
   ],
   "source": [
    "b"
   ]
  },
  {
   "cell_type": "code",
   "execution_count": 10,
   "metadata": {},
   "outputs": [
    {
     "data": {
      "text/plain": [
       "132"
      ]
     },
     "execution_count": 10,
     "metadata": {},
     "output_type": "execute_result"
    }
   ],
   "source": [
    "np.inner(a, b)"
   ]
  },
  {
   "cell_type": "code",
   "execution_count": 11,
   "metadata": {},
   "outputs": [],
   "source": [
    "np.random.seed(9)\n",
    "a = np.random.randint(10, size=(5))\n",
    "b = np.random.randint(10, size=(6))"
   ]
  },
  {
   "cell_type": "code",
   "execution_count": 12,
   "metadata": {},
   "outputs": [
    {
     "data": {
      "text/plain": [
       "array([6, 4, 8, 1, 8, 5])"
      ]
     },
     "execution_count": 12,
     "metadata": {},
     "output_type": "execute_result"
    }
   ],
   "source": [
    "a\n",
    "b"
   ]
  },
  {
   "cell_type": "code",
   "execution_count": 13,
   "metadata": {},
   "outputs": [
    {
     "data": {
      "text/plain": [
       "array([[30, 20, 40,  5, 40, 25],\n",
       "       [36, 24, 48,  6, 48, 30],\n",
       "       [48, 32, 64,  8, 64, 40],\n",
       "       [36, 24, 48,  6, 48, 30],\n",
       "       [ 6,  4,  8,  1,  8,  5]])"
      ]
     },
     "execution_count": 13,
     "metadata": {},
     "output_type": "execute_result"
    }
   ],
   "source": [
    "np.outer(a, b)"
   ]
  },
  {
   "cell_type": "code",
   "execution_count": 14,
   "metadata": {},
   "outputs": [
    {
     "data": {
      "text/plain": [
       "array([[20, 23, 26, 29],\n",
       "       [56, 68, 80, 92]])"
      ]
     },
     "execution_count": 14,
     "metadata": {},
     "output_type": "execute_result"
    }
   ],
   "source": [
    "np.random.seed(9)\n",
    "A = np.arange(6).reshape(2, 3)\n",
    "B = np.arange(12).reshape(3, 4)\n",
    "\n",
    "np.matmul(A, B)"
   ]
  },
  {
   "cell_type": "code",
   "execution_count": 15,
   "metadata": {},
   "outputs": [
    {
     "data": {
      "text/plain": [
       "array([[20, 23, 26, 29],\n",
       "       [56, 68, 80, 92]])"
      ]
     },
     "execution_count": 15,
     "metadata": {},
     "output_type": "execute_result"
    }
   ],
   "source": [
    "np.matmul(A, B)"
   ]
  },
  {
   "cell_type": "code",
   "execution_count": 16,
   "metadata": {},
   "outputs": [
    {
     "data": {
      "text/plain": [
       "array([[20, 23, 26, 29],\n",
       "       [56, 68, 80, 92]])"
      ]
     },
     "execution_count": 16,
     "metadata": {},
     "output_type": "execute_result"
    }
   ],
   "source": [
    "A@B"
   ]
  },
  {
   "cell_type": "code",
   "execution_count": 17,
   "metadata": {},
   "outputs": [
    {
     "ename": "ValueError",
     "evalue": "matmul: Input operand 1 does not have enough dimensions (has 0, gufunc core with signature (n?,k),(k,m?)->(n?,m?) requires 1)",
     "output_type": "error",
     "traceback": [
      "\u001b[1;31m---------------------------------------------------------------------------\u001b[0m",
      "\u001b[1;31mValueError\u001b[0m                                Traceback (most recent call last)",
      "\u001b[1;32m<ipython-input-17-a94fe2555329>\u001b[0m in \u001b[0;36m<module>\u001b[1;34m\u001b[0m\n\u001b[1;32m----> 1\u001b[1;33m \u001b[0mnp\u001b[0m\u001b[1;33m.\u001b[0m\u001b[0mmatmul\u001b[0m\u001b[1;33m(\u001b[0m\u001b[0mA\u001b[0m\u001b[1;33m,\u001b[0m \u001b[1;36m2\u001b[0m\u001b[1;33m)\u001b[0m\u001b[1;33m\u001b[0m\u001b[1;33m\u001b[0m\u001b[0m\n\u001b[0m",
      "\u001b[1;31mValueError\u001b[0m: matmul: Input operand 1 does not have enough dimensions (has 0, gufunc core with signature (n?,k),(k,m?)->(n?,m?) requires 1)"
     ]
    }
   ],
   "source": [
    "\n",
    "np.matmul(A, 2)"
   ]
  },
  {
   "cell_type": "code",
   "execution_count": 18,
   "metadata": {},
   "outputs": [
    {
     "data": {
      "text/plain": [
       "array([[ 3,  0, -1],\n",
       "       [ 2,  4,  1],\n",
       "       [ 7,  2,  3]])"
      ]
     },
     "execution_count": 18,
     "metadata": {},
     "output_type": "execute_result"
    }
   ],
   "source": [
    "A = np.array([[3, 0, -1],[2, 4, 1],[7, 2, 3]])\n",
    "A"
   ]
  },
  {
   "cell_type": "code",
   "execution_count": 19,
   "metadata": {},
   "outputs": [
    {
     "data": {
      "text/plain": [
       "10"
      ]
     },
     "execution_count": 19,
     "metadata": {},
     "output_type": "execute_result"
    }
   ],
   "source": [
    "np.trace(A)"
   ]
  },
  {
   "cell_type": "code",
   "execution_count": 20,
   "metadata": {},
   "outputs": [
    {
     "data": {
      "text/plain": [
       "53.999999999999986"
      ]
     },
     "execution_count": 20,
     "metadata": {},
     "output_type": "execute_result"
    }
   ],
   "source": [
    "np.linalg.det(A)"
   ]
  },
  {
   "cell_type": "code",
   "execution_count": 21,
   "metadata": {},
   "outputs": [
    {
     "data": {
      "text/plain": [
       "array([[ 0.18518519, -0.03703704,  0.07407407],\n",
       "       [ 0.01851852,  0.2962963 , -0.09259259],\n",
       "       [-0.44444444, -0.11111111,  0.22222222]])"
      ]
     },
     "execution_count": 21,
     "metadata": {},
     "output_type": "execute_result"
    }
   ],
   "source": [
    "np.linalg.inv(A)"
   ]
  },
  {
   "cell_type": "code",
   "execution_count": 22,
   "metadata": {},
   "outputs": [
    {
     "data": {
      "text/plain": [
       "array([[ 3,  2,  7],\n",
       "       [ 0,  4,  2],\n",
       "       [-1,  1,  3]])"
      ]
     },
     "execution_count": 22,
     "metadata": {},
     "output_type": "execute_result"
    }
   ],
   "source": [
    "np.transpose(A)"
   ]
  },
  {
   "cell_type": "code",
   "execution_count": 23,
   "metadata": {},
   "outputs": [
    {
     "data": {
      "text/plain": [
       "array([[-2, -4,  2],\n",
       "       [-2,  1,  2],\n",
       "       [ 4,  2,  5]])"
      ]
     },
     "execution_count": 23,
     "metadata": {},
     "output_type": "execute_result"
    }
   ],
   "source": [
    "B = np.array([[-2, -4, 2],[-2, 1, 2],[4, 2, 5]])\n",
    "B"
   ]
  },
  {
   "cell_type": "code",
   "execution_count": 24,
   "metadata": {},
   "outputs": [],
   "source": [
    "w, v = np.linalg.eig(B)"
   ]
  },
  {
   "cell_type": "code",
   "execution_count": 25,
   "metadata": {},
   "outputs": [
    {
     "data": {
      "text/plain": [
       "array([-5.,  3.,  6.])"
      ]
     },
     "execution_count": 25,
     "metadata": {},
     "output_type": "execute_result"
    }
   ],
   "source": [
    "# eigenvalues\n",
    "w"
   ]
  },
  {
   "cell_type": "code",
   "execution_count": 26,
   "metadata": {},
   "outputs": [
    {
     "data": {
      "text/plain": [
       "array([[ 0.81649658,  0.53452248,  0.05842062],\n",
       "       [ 0.40824829, -0.80178373,  0.35052374],\n",
       "       [-0.40824829, -0.26726124,  0.93472998]])"
      ]
     },
     "execution_count": 26,
     "metadata": {},
     "output_type": "execute_result"
    }
   ],
   "source": [
    "# eigenvectors\n",
    "v"
   ]
  },
  {
   "cell_type": "code",
   "execution_count": 27,
   "metadata": {},
   "outputs": [
    {
     "data": {
      "text/plain": [
       "3"
      ]
     },
     "execution_count": 27,
     "metadata": {},
     "output_type": "execute_result"
    }
   ],
   "source": [
    "A = np.array([[3, 0, -1],[2, 4, 1],[7, 2, 3]])\n",
    "np.linalg.matrix_rank(A)"
   ]
  },
  {
   "cell_type": "code",
   "execution_count": 28,
   "metadata": {},
   "outputs": [
    {
     "data": {
      "text/plain": [
       "array([2., 3.])"
      ]
     },
     "execution_count": 28,
     "metadata": {},
     "output_type": "execute_result"
    }
   ],
   "source": [
    "a = np.array([[3,1], [1,2]])\n",
    "b = np.array([9,8])\n",
    "x = np.linalg.solve(a, b)\n",
    "x"
   ]
  },
  {
   "cell_type": "code",
   "execution_count": 29,
   "metadata": {},
   "outputs": [],
   "source": [
    "#1. 運用上列array計算反矩陣，乘上原矩陣，並觀察是否為單位矩陣?\n",
    "array1 = np.array([[10, 8], [3, 5]])"
   ]
  },
  {
   "cell_type": "code",
   "execution_count": 30,
   "metadata": {},
   "outputs": [],
   "source": [
    "inv_arrary1 = np.linalg.inv(array1)"
   ]
  },
  {
   "cell_type": "code",
   "execution_count": 31,
   "metadata": {},
   "outputs": [
    {
     "data": {
      "text/plain": [
       "array([[1., 0.],\n",
       "       [0., 1.]])"
      ]
     },
     "execution_count": 31,
     "metadata": {},
     "output_type": "execute_result"
    }
   ],
   "source": [
    "is_same = array1@inv_arrary1\n",
    "is_same"
   ]
  },
  {
   "cell_type": "code",
   "execution_count": 33,
   "metadata": {},
   "outputs": [],
   "source": [
    "#2. 運用上列array計算特徵值、特徵向量?"
   ]
  },
  {
   "cell_type": "code",
   "execution_count": 34,
   "metadata": {},
   "outputs": [],
   "source": [
    "u, v = np.linalg.eig(array1)"
   ]
  },
  {
   "cell_type": "code",
   "execution_count": 35,
   "metadata": {},
   "outputs": [
    {
     "data": {
      "text/plain": [
       "array([13.,  2.])"
      ]
     },
     "execution_count": 35,
     "metadata": {},
     "output_type": "execute_result"
    }
   ],
   "source": [
    "# eigenvalues\n",
    "u"
   ]
  },
  {
   "cell_type": "code",
   "execution_count": 36,
   "metadata": {},
   "outputs": [
    {
     "data": {
      "text/plain": [
       "array([[ 0.93632918, -0.70710678],\n",
       "       [ 0.35112344,  0.70710678]])"
      ]
     },
     "execution_count": 36,
     "metadata": {},
     "output_type": "execute_result"
    }
   ],
   "source": [
    "# eigenvectors\n",
    "v"
   ]
  },
  {
   "cell_type": "code",
   "execution_count": 37,
   "metadata": {},
   "outputs": [],
   "source": [
    "#3. 運用上列array計算SVD?"
   ]
  },
  {
   "cell_type": "code",
   "execution_count": 38,
   "metadata": {},
   "outputs": [
    {
     "data": {
      "text/plain": [
       "(array([[-0.91663818, -0.39971796],\n",
       "        [-0.39971796,  0.91663818]]),\n",
       " array([13.94721714,  1.86417116]),\n",
       " array([[-0.74319741, -0.6690722 ],\n",
       "        [-0.6690722 ,  0.74319741]]))"
      ]
     },
     "execution_count": 38,
     "metadata": {},
     "output_type": "execute_result"
    }
   ],
   "source": [
    "np.linalg.svd(array1)"
   ]
  },
  {
   "cell_type": "code",
   "execution_count": 1,
   "metadata": {},
   "outputs": [
    {
     "name": "stdout",
     "output_type": "stream",
     "text": [
      "[0, 1, 8]\n",
      "8\n",
      "0\n",
      "[1, 8]\n"
     ]
    }
   ],
   "source": [
    "# 從陣列中存取元素\n",
    "\n",
    "\n",
    "\n",
    "L = [0, 1, 8]\n",
    "\n",
    "print(L)\n",
    "print(L[-1]) # 8\n",
    "print(L[0]) # 0\n",
    "print(L[1:3]) # [1, 8]"
   ]
  },
  {
   "cell_type": "code",
   "execution_count": 3,
   "metadata": {},
   "outputs": [
    {
     "name": "stdout",
     "output_type": "stream",
     "text": [
      "[0 1 8]\n",
      "8\n",
      "0\n",
      "[1 8]\n"
     ]
    }
   ],
   "source": [
    "import numpy as np \n",
    "\n",
    "a = np.arange(3) ** 3\n",
    "\n",
    "print(a)\n",
    "print(a[-1]) # 8\n",
    "print(a[0]) # 0\n",
    "print(a[1:3]) # [1 8]"
   ]
  },
  {
   "cell_type": "code",
   "execution_count": 4,
   "metadata": {},
   "outputs": [
    {
     "name": "stdout",
     "output_type": "stream",
     "text": [
      "1\n",
      "2\n",
      "[1 2]\n",
      "[2 3]\n",
      "[2 3]\n"
     ]
    }
   ],
   "source": [
    "# 一維陣列的切片與索引\n",
    "\n",
    "import numpy as np \n",
    "\n",
    "data = np.array([1, 2, 3])\n",
    "\n",
    "print(data[0]) # 取出第 0 個\n",
    "print(data[1]) # 取出第 1 個\n",
    "print(data[0:2]) # 第 0 - 1 個\n",
    "print(data[1:]) # 第 1 到最後一個\n",
    "print(data[-2:]) # 倒數第二到最後一個"
   ]
  },
  {
   "cell_type": "code",
   "execution_count": 7,
   "metadata": {},
   "outputs": [
    {
     "name": "stdout",
     "output_type": "stream",
     "text": [
      "0\n",
      "1\n",
      "8\n"
     ]
    }
   ],
   "source": [
    "# 一維陣列的的迭代\n",
    "\n",
    "import numpy as np \n",
    "\n",
    "a = np.arange(3)**3\n",
    "\n",
    "for i in a:\n",
    "    print(i)\n",
    "# 0\n",
    "# 1 \n",
    "# 8"
   ]
  },
  {
   "cell_type": "code",
   "execution_count": 8,
   "metadata": {},
   "outputs": [
    {
     "name": "stdout",
     "output_type": "stream",
     "text": [
      "[0 1]\n",
      "[2 3]\n",
      "[4 5]\n"
     ]
    }
   ],
   "source": [
    "# 多維陣列的多層迴圈\n",
    "\n",
    "import numpy as np \n",
    "\n",
    "a = np.arange(6).reshape(3, 2)\n",
    "\n",
    "for row in a:\n",
    "    print(row)\n",
    "# [0 1]\n",
    "# [2 3]\n",
    "# [4 5]"
   ]
  },
  {
   "cell_type": "code",
   "execution_count": 9,
   "metadata": {},
   "outputs": [
    {
     "name": "stdout",
     "output_type": "stream",
     "text": [
      "0\n",
      "1\n",
      "2\n",
      "3\n",
      "4\n",
      "5\n"
     ]
    }
   ],
   "source": [
    "for row in a:\n",
    "    for d in row:\n",
    "        print(d)\n",
    "# 0\n",
    "# 1\n",
    "# 2\n",
    "# 3\n",
    "# 4\n",
    "# 5"
   ]
  },
  {
   "cell_type": "code",
   "execution_count": 10,
   "metadata": {},
   "outputs": [
    {
     "name": "stdout",
     "output_type": "stream",
     "text": [
      "0\n",
      "1\n",
      "2\n",
      "3\n",
      "4\n",
      "5\n"
     ]
    }
   ],
   "source": [
    "# 攤平後再迭代多維陣列\n",
    "\n",
    "import numpy as np \n",
    "\n",
    "a = np.arange(6).reshape(3, 2)\n",
    "\n",
    "for d in a.flat:\n",
    "    print(d)"
   ]
  },
  {
   "cell_type": "code",
   "execution_count": 14,
   "metadata": {},
   "outputs": [
    {
     "name": "stdout",
     "output_type": "stream",
     "text": [
      "0\n",
      "1\n",
      "2\n",
      "3\n",
      "4\n",
      "5\n"
     ]
    }
   ],
   "source": [
    "# np.nditer 迭代物件\n",
    "\n",
    "import numpy as np \n",
    "\n",
    "a = np.arange(6).reshape(3, 2)\n",
    "\n",
    "for d in np.nditer(a):\n",
    "    print(d)"
   ]
  },
  {
   "cell_type": "code",
   "execution_count": 15,
   "metadata": {},
   "outputs": [
    {
     "name": "stdout",
     "output_type": "stream",
     "text": [
      "0\n",
      "1\n",
      "2\n",
      "3\n",
      "4\n",
      "5\n"
     ]
    }
   ],
   "source": [
    "# 迭代物件的儲存方向\n",
    "\n",
    "a = np.arange(6).reshape(3, 2)\n",
    "\n",
    "for d in np.nditer(a, order='C'):\n",
    "    print(d)\n"
   ]
  },
  {
   "cell_type": "code",
   "execution_count": 17,
   "metadata": {},
   "outputs": [
    {
     "name": "stdout",
     "output_type": "stream",
     "text": [
      "0\n",
      "2\n",
      "4\n",
      "1\n",
      "3\n",
      "5\n"
     ]
    }
   ],
   "source": [
    "# 迭代物件的儲存方向\n",
    "\n",
    "a = np.arange(6).reshape(3, 2)\n",
    "\n",
    "for d in np.nditer(a, order='F'):\n",
    "    print(d)\n"
   ]
  },
  {
   "cell_type": "code",
   "execution_count": 18,
   "metadata": {},
   "outputs": [],
   "source": [
    "Z = np.random.randint(0, 10, 1000000).reshape(100, 100, 100)"
   ]
  },
  {
   "cell_type": "code",
   "execution_count": 19,
   "metadata": {},
   "outputs": [
    {
     "name": "stdout",
     "output_type": "stream",
     "text": [
      "35.7 ns ± 7.28 ns per loop (mean ± std. dev. of 7 runs, 10 loops each)\n"
     ]
    }
   ],
   "source": [
    "%timeit -n 10 a = 2"
   ]
  },
  {
   "cell_type": "code",
   "execution_count": 21,
   "metadata": {},
   "outputs": [
    {
     "name": "stdout",
     "output_type": "stream",
     "text": [
      "35.7 ns ± 10.5 ns per loop (mean ± std. dev. of 7 runs, 10 loops each)\n"
     ]
    }
   ],
   "source": [
    "y = Z + 1\n",
    "%timeit -n 10 a = 2"
   ]
  },
  {
   "cell_type": "code",
   "execution_count": 22,
   "metadata": {},
   "outputs": [
    {
     "data": {
      "text/plain": [
       "array([[[4, 8, 5, ..., 8, 2, 8],\n",
       "        [2, 7, 0, ..., 0, 3, 5],\n",
       "        [0, 5, 2, ..., 1, 6, 7],\n",
       "        ...,\n",
       "        [8, 1, 5, ..., 8, 0, 5],\n",
       "        [1, 6, 3, ..., 0, 4, 0],\n",
       "        [6, 0, 8, ..., 5, 8, 3]],\n",
       "\n",
       "       [[7, 7, 3, ..., 9, 2, 8],\n",
       "        [3, 7, 7, ..., 3, 9, 1],\n",
       "        [8, 3, 2, ..., 6, 5, 3],\n",
       "        ...,\n",
       "        [2, 9, 1, ..., 5, 9, 8],\n",
       "        [6, 7, 5, ..., 4, 6, 7],\n",
       "        [2, 0, 2, ..., 7, 3, 2]],\n",
       "\n",
       "       [[5, 6, 9, ..., 3, 6, 5],\n",
       "        [1, 4, 5, ..., 8, 1, 8],\n",
       "        [7, 4, 1, ..., 5, 7, 5],\n",
       "        ...,\n",
       "        [8, 3, 0, ..., 5, 3, 2],\n",
       "        [9, 9, 9, ..., 5, 8, 4],\n",
       "        [6, 3, 7, ..., 1, 9, 9]],\n",
       "\n",
       "       ...,\n",
       "\n",
       "       [[3, 0, 9, ..., 3, 0, 7],\n",
       "        [7, 3, 6, ..., 3, 5, 0],\n",
       "        [9, 4, 6, ..., 1, 1, 0],\n",
       "        ...,\n",
       "        [4, 7, 5, ..., 7, 3, 5],\n",
       "        [3, 9, 4, ..., 9, 6, 5],\n",
       "        [7, 1, 3, ..., 1, 1, 4]],\n",
       "\n",
       "       [[7, 7, 1, ..., 8, 2, 9],\n",
       "        [1, 5, 0, ..., 4, 3, 8],\n",
       "        [5, 5, 4, ..., 6, 9, 4],\n",
       "        ...,\n",
       "        [2, 9, 3, ..., 6, 0, 6],\n",
       "        [2, 2, 0, ..., 2, 0, 2],\n",
       "        [2, 0, 0, ..., 2, 3, 0]],\n",
       "\n",
       "       [[4, 5, 0, ..., 9, 2, 2],\n",
       "        [7, 1, 0, ..., 6, 9, 6],\n",
       "        [8, 6, 2, ..., 0, 2, 2],\n",
       "        ...,\n",
       "        [2, 7, 9, ..., 6, 9, 1],\n",
       "        [8, 5, 8, ..., 9, 7, 4],\n",
       "        [6, 8, 8, ..., 7, 7, 6]]])"
      ]
     },
     "execution_count": 22,
     "metadata": {},
     "output_type": "execute_result"
    }
   ],
   "source": [
    "Z"
   ]
  },
  {
   "cell_type": "code",
   "execution_count": 24,
   "metadata": {},
   "outputs": [
    {
     "name": "stdout",
     "output_type": "stream",
     "text": [
      "72.9 ns ± 4.52 ns per loop (mean ± std. dev. of 7 runs, 10 loops each)\n"
     ]
    }
   ],
   "source": [
    "y= 0\n",
    "for row in Z:\n",
    "    row += 1\n",
    "    \n",
    "%timeit -n 10 a = 2\n",
    "    "
   ]
  },
  {
   "cell_type": "code",
   "execution_count": 25,
   "metadata": {},
   "outputs": [
    {
     "name": "stdout",
     "output_type": "stream",
     "text": [
      "34.3 ns ± 10.5 ns per loop (mean ± std. dev. of 7 runs, 10 loops each)\n"
     ]
    }
   ],
   "source": [
    "y= 0\n",
    "for row in Z:\n",
    "    for i in row:\n",
    "        i += 1\n",
    "    \n",
    "%timeit -n 10 a = 2\n",
    "    "
   ]
  },
  {
   "cell_type": "code",
   "execution_count": null,
   "metadata": {},
   "outputs": [],
   "source": []
  }
 ],
 "metadata": {
  "kernelspec": {
   "display_name": "Python 3",
   "language": "python",
   "name": "python3"
  },
  "language_info": {
   "codemirror_mode": {
    "name": "ipython",
    "version": 3
   },
   "file_extension": ".py",
   "mimetype": "text/x-python",
   "name": "python",
   "nbconvert_exporter": "python",
   "pygments_lexer": "ipython3",
   "version": "3.8.5"
  }
 },
 "nbformat": 4,
 "nbformat_minor": 4
}
